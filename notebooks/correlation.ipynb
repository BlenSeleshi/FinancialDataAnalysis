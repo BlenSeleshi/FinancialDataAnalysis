{
 "cells": [
  {
   "cell_type": "markdown",
   "metadata": {},
   "source": [
    "Importing the Necessary Packages"
   ]
  },
  {
   "cell_type": "code",
   "execution_count": 30,
   "metadata": {},
   "outputs": [],
   "source": [
    "import pandas as pd\n",
    "from datetime import datetime\n",
    "import textblob"
   ]
  },
  {
   "cell_type": "markdown",
   "metadata": {},
   "source": [
    "Normalize Dates For the Sentiment Dataset and Only Keeping Data about the Stocks that we have the Financial Data Of"
   ]
  },
  {
   "cell_type": "code",
   "execution_count": 24,
   "metadata": {},
   "outputs": [],
   "source": [
    "# Load sentiment data\n",
    "sentiment_df = pd.read_csv(r'C:\\Users\\Blen\\OneDrive\\Documents\\10Academy\\Week1\\Data\\raw_analyst_ratings.csv')\n",
    "\n",
    "# Drop the URL column\n",
    "sentiment_df = sentiment_df.drop(columns=[\"url\"])\n",
    "# Convert date \n",
    "sentiment_df['date'] = pd.to_datetime(sentiment_df['date'], format='mixed', dayfirst=True, utc=True)\n",
    "# Filter for relevant stocks\n",
    "relevant_stocks = ['AAPL', 'AMZN', 'GOOG', 'NVDA']\n",
    "sentiment_df = sentiment_df[sentiment_df['stock'].isin(relevant_stocks)]"
   ]
  },
  {
   "cell_type": "code",
   "execution_count": 27,
   "metadata": {},
   "outputs": [
    {
     "data": {
      "text/html": [
       "<div>\n",
       "<style scoped>\n",
       "    .dataframe tbody tr th:only-of-type {\n",
       "        vertical-align: middle;\n",
       "    }\n",
       "\n",
       "    .dataframe tbody tr th {\n",
       "        vertical-align: top;\n",
       "    }\n",
       "\n",
       "    .dataframe thead th {\n",
       "        text-align: right;\n",
       "    }\n",
       "</style>\n",
       "<table border=\"1\" class=\"dataframe\">\n",
       "  <thead>\n",
       "    <tr style=\"text-align: right;\">\n",
       "      <th></th>\n",
       "      <th>Unnamed: 0</th>\n",
       "      <th>headline</th>\n",
       "      <th>publisher</th>\n",
       "      <th>date</th>\n",
       "      <th>stock</th>\n",
       "    </tr>\n",
       "  </thead>\n",
       "  <tbody>\n",
       "    <tr>\n",
       "      <th>6680</th>\n",
       "      <td>7120</td>\n",
       "      <td>Tech Stocks And FAANGS Strong Again To Start D...</td>\n",
       "      <td>JJ Kinahan</td>\n",
       "      <td>2020-06-10 15:33:26+00:00</td>\n",
       "      <td>AAPL</td>\n",
       "    </tr>\n",
       "    <tr>\n",
       "      <th>6681</th>\n",
       "      <td>7121</td>\n",
       "      <td>10 Biggest Price Target Changes For Wednesday</td>\n",
       "      <td>Lisa Levin</td>\n",
       "      <td>2020-06-10 12:14:08+00:00</td>\n",
       "      <td>AAPL</td>\n",
       "    </tr>\n",
       "    <tr>\n",
       "      <th>6682</th>\n",
       "      <td>7122</td>\n",
       "      <td>Benzinga Pro's Top 5 Stocks To Watch For Wed.,...</td>\n",
       "      <td>Benzinga Newsdesk</td>\n",
       "      <td>2020-06-10 11:53:47+00:00</td>\n",
       "      <td>AAPL</td>\n",
       "    </tr>\n",
       "    <tr>\n",
       "      <th>6683</th>\n",
       "      <td>7123</td>\n",
       "      <td>Deutsche Bank Maintains Buy on Apple, Raises P...</td>\n",
       "      <td>Benzinga Newsdesk</td>\n",
       "      <td>2020-06-10 11:19:25+00:00</td>\n",
       "      <td>AAPL</td>\n",
       "    </tr>\n",
       "    <tr>\n",
       "      <th>6684</th>\n",
       "      <td>7124</td>\n",
       "      <td>Apple To Let Users Trade In Their Mac Computer...</td>\n",
       "      <td>Neer Varshney</td>\n",
       "      <td>2020-06-10 10:27:11+00:00</td>\n",
       "      <td>AAPL</td>\n",
       "    </tr>\n",
       "    <tr>\n",
       "      <th>6685</th>\n",
       "      <td>7125</td>\n",
       "      <td>Big Tech Reaches New Record Heights At The Sto...</td>\n",
       "      <td>Neer Varshney</td>\n",
       "      <td>2020-06-10 04:52:01+00:00</td>\n",
       "      <td>AAPL</td>\n",
       "    </tr>\n",
       "    <tr>\n",
       "      <th>6686</th>\n",
       "      <td>7126</td>\n",
       "      <td>Why Apple's Stock Is Trading Higher Today</td>\n",
       "      <td>Tanzeel Akhtar</td>\n",
       "      <td>2020-06-09 19:14:07+00:00</td>\n",
       "      <td>AAPL</td>\n",
       "    </tr>\n",
       "    <tr>\n",
       "      <th>6687</th>\n",
       "      <td>7127</td>\n",
       "      <td>Apple Could Announce In-House Chips For Macs A...</td>\n",
       "      <td>Shanthi Rexaline</td>\n",
       "      <td>2020-06-09 17:58:46+00:00</td>\n",
       "      <td>AAPL</td>\n",
       "    </tr>\n",
       "    <tr>\n",
       "      <th>6688</th>\n",
       "      <td>7128</td>\n",
       "      <td>Apple shares are trading higher despite market...</td>\n",
       "      <td>Benzinga Newsdesk</td>\n",
       "      <td>2020-06-09 16:41:02+00:00</td>\n",
       "      <td>AAPL</td>\n",
       "    </tr>\n",
       "    <tr>\n",
       "      <th>6689</th>\n",
       "      <td>7129</td>\n",
       "      <td>Sonos Shares Spike To Session High, Now Up 9.5...</td>\n",
       "      <td>Benzinga Newsdesk</td>\n",
       "      <td>2020-06-09 15:11:34+00:00</td>\n",
       "      <td>AAPL</td>\n",
       "    </tr>\n",
       "  </tbody>\n",
       "</table>\n",
       "</div>"
      ],
      "text/plain": [
       "      Unnamed: 0                                           headline  \\\n",
       "6680        7120  Tech Stocks And FAANGS Strong Again To Start D...   \n",
       "6681        7121      10 Biggest Price Target Changes For Wednesday   \n",
       "6682        7122  Benzinga Pro's Top 5 Stocks To Watch For Wed.,...   \n",
       "6683        7123  Deutsche Bank Maintains Buy on Apple, Raises P...   \n",
       "6684        7124  Apple To Let Users Trade In Their Mac Computer...   \n",
       "6685        7125  Big Tech Reaches New Record Heights At The Sto...   \n",
       "6686        7126          Why Apple's Stock Is Trading Higher Today   \n",
       "6687        7127  Apple Could Announce In-House Chips For Macs A...   \n",
       "6688        7128  Apple shares are trading higher despite market...   \n",
       "6689        7129  Sonos Shares Spike To Session High, Now Up 9.5...   \n",
       "\n",
       "              publisher                      date stock  \n",
       "6680         JJ Kinahan 2020-06-10 15:33:26+00:00  AAPL  \n",
       "6681         Lisa Levin 2020-06-10 12:14:08+00:00  AAPL  \n",
       "6682  Benzinga Newsdesk 2020-06-10 11:53:47+00:00  AAPL  \n",
       "6683  Benzinga Newsdesk 2020-06-10 11:19:25+00:00  AAPL  \n",
       "6684      Neer Varshney 2020-06-10 10:27:11+00:00  AAPL  \n",
       "6685      Neer Varshney 2020-06-10 04:52:01+00:00  AAPL  \n",
       "6686     Tanzeel Akhtar 2020-06-09 19:14:07+00:00  AAPL  \n",
       "6687   Shanthi Rexaline 2020-06-09 17:58:46+00:00  AAPL  \n",
       "6688  Benzinga Newsdesk 2020-06-09 16:41:02+00:00  AAPL  \n",
       "6689  Benzinga Newsdesk 2020-06-09 15:11:34+00:00  AAPL  "
      ]
     },
     "execution_count": 27,
     "metadata": {},
     "output_type": "execute_result"
    }
   ],
   "source": [
    "sentiment_df.head(10)"
   ]
  },
  {
   "cell_type": "code",
   "execution_count": 38,
   "metadata": {},
   "outputs": [
    {
     "data": {
      "text/plain": [
       "(5064, 6)"
      ]
     },
     "execution_count": 38,
     "metadata": {},
     "output_type": "execute_result"
    }
   ],
   "source": [
    "sentiment_df.shape"
   ]
  },
  {
   "cell_type": "markdown",
   "metadata": {},
   "source": [
    "Calculate Sentiment Scores and Aggregate the Sentiments Scores that are on the Same Day by Taking their Average"
   ]
  },
  {
   "cell_type": "code",
   "execution_count": 31,
   "metadata": {},
   "outputs": [],
   "source": [
    "from textblob import TextBlob\n",
    "\n",
    "# Function to calculate sentiment score\n",
    "def calculate_sentiment(text):\n",
    "    analysis = TextBlob(text)\n",
    "    return analysis.sentiment.polarity\n",
    "\n",
    "# Apply sentiment analysis\n",
    "sentiment_df['sentiment_score'] = sentiment_df['headline'].apply(calculate_sentiment)\n",
    "\n",
    "# Aggregate sentiment scores by date and stock\n",
    "aggregated_sentiment = sentiment_df.groupby(['date', 'stock'])['sentiment_score'].mean().reset_index()\n"
   ]
  },
  {
   "cell_type": "code",
   "execution_count": 35,
   "metadata": {},
   "outputs": [
    {
     "data": {
      "text/html": [
       "<div>\n",
       "<style scoped>\n",
       "    .dataframe tbody tr th:only-of-type {\n",
       "        vertical-align: middle;\n",
       "    }\n",
       "\n",
       "    .dataframe tbody tr th {\n",
       "        vertical-align: top;\n",
       "    }\n",
       "\n",
       "    .dataframe thead th {\n",
       "        text-align: right;\n",
       "    }\n",
       "</style>\n",
       "<table border=\"1\" class=\"dataframe\">\n",
       "  <thead>\n",
       "    <tr style=\"text-align: right;\">\n",
       "      <th></th>\n",
       "      <th>date</th>\n",
       "      <th>stock</th>\n",
       "      <th>sentiment_score</th>\n",
       "    </tr>\n",
       "  </thead>\n",
       "  <tbody>\n",
       "    <tr>\n",
       "      <th>0</th>\n",
       "      <td>2011-01-06 00:00:00+00:00</td>\n",
       "      <td>NVDA</td>\n",
       "      <td>0.000000</td>\n",
       "    </tr>\n",
       "    <tr>\n",
       "      <th>1</th>\n",
       "      <td>2011-01-08 00:00:00+00:00</td>\n",
       "      <td>NVDA</td>\n",
       "      <td>0.100000</td>\n",
       "    </tr>\n",
       "    <tr>\n",
       "      <th>2</th>\n",
       "      <td>2011-01-11 00:00:00+00:00</td>\n",
       "      <td>NVDA</td>\n",
       "      <td>0.000000</td>\n",
       "    </tr>\n",
       "    <tr>\n",
       "      <th>3</th>\n",
       "      <td>2011-01-12 00:00:00+00:00</td>\n",
       "      <td>NVDA</td>\n",
       "      <td>0.079167</td>\n",
       "    </tr>\n",
       "    <tr>\n",
       "      <th>4</th>\n",
       "      <td>2011-02-06 00:00:00+00:00</td>\n",
       "      <td>NVDA</td>\n",
       "      <td>0.000000</td>\n",
       "    </tr>\n",
       "  </tbody>\n",
       "</table>\n",
       "</div>"
      ],
      "text/plain": [
       "                       date stock  sentiment_score\n",
       "0 2011-01-06 00:00:00+00:00  NVDA         0.000000\n",
       "1 2011-01-08 00:00:00+00:00  NVDA         0.100000\n",
       "2 2011-01-11 00:00:00+00:00  NVDA         0.000000\n",
       "3 2011-01-12 00:00:00+00:00  NVDA         0.079167\n",
       "4 2011-02-06 00:00:00+00:00  NVDA         0.000000"
      ]
     },
     "execution_count": 35,
     "metadata": {},
     "output_type": "execute_result"
    }
   ],
   "source": [
    "aggregated_sentiment.head()"
   ]
  },
  {
   "cell_type": "code",
   "execution_count": 37,
   "metadata": {},
   "outputs": [
    {
     "data": {
      "text/plain": [
       "(1717, 3)"
      ]
     },
     "execution_count": 37,
     "metadata": {},
     "output_type": "execute_result"
    }
   ],
   "source": [
    "aggregated_sentiment.shape"
   ]
  },
  {
   "cell_type": "markdown",
   "metadata": {},
   "source": [
    "Processing Each Stock Data Individually "
   ]
  },
  {
   "cell_type": "code",
   "execution_count": 44,
   "metadata": {},
   "outputs": [],
   "source": [
    "# Load stock data for AAPL, AMZN, GOOG, NVDA separately\n",
    "stock_files = {\n",
    "    'AAPL': r'C:\\Users\\Blen\\OneDrive\\Documents\\10Academy\\Week1\\Data\\yfinance_data\\AAPL_historical_data.csv',\n",
    "    'AMZN': r'C:\\Users\\Blen\\OneDrive\\Documents\\10Academy\\Week1\\Data\\yfinance_data\\AMZN_historical_data.csv',\n",
    "    'GOOG': r'C:\\Users\\Blen\\OneDrive\\Documents\\10Academy\\Week1\\Data\\yfinance_data\\GOOG_historical_data.csv',\n",
    "    'NVDA': r'C:\\Users\\Blen\\OneDrive\\Documents\\10Academy\\Week1\\Data\\yfinance_data\\NVDA_historical_data.csv'\n",
    "}\n",
    "\n",
    "stock_data = {}\n",
    "\n",
    "for stock, file_path in stock_files.items():\n",
    "    df = pd.read_csv(file_path)\n",
    "    df['Date'] = pd.to_datetime(df['Date'], utc=True)\n",
    "    df = df.drop(['Dividends', 'Stock Splits','Volume'], axis=1)\n",
    "    stock_data[stock] = df\n",
    "\n"
   ]
  },
  {
   "cell_type": "markdown",
   "metadata": {},
   "source": [
    "Computing Daily Returns for the Stocks"
   ]
  },
  {
   "cell_type": "code",
   "execution_count": 45,
   "metadata": {},
   "outputs": [],
   "source": [
    "# Function to calculate daily returns\n",
    "def calculate_daily_return(df):\n",
    "    df['Daily Return'] = (df['Close'] - df['Open']) / df['Open']\n",
    "    return df\n",
    "\n",
    "# Apply the function to calculate daily returns for each stock\n",
    "for stock, df in stock_data.items():\n",
    "    stock_data[stock] = calculate_daily_return(df)\n"
   ]
  },
  {
   "cell_type": "code",
   "execution_count": 46,
   "metadata": {},
   "outputs": [
    {
     "data": {
      "text/html": [
       "<div>\n",
       "<style scoped>\n",
       "    .dataframe tbody tr th:only-of-type {\n",
       "        vertical-align: middle;\n",
       "    }\n",
       "\n",
       "    .dataframe tbody tr th {\n",
       "        vertical-align: top;\n",
       "    }\n",
       "\n",
       "    .dataframe thead th {\n",
       "        text-align: right;\n",
       "    }\n",
       "</style>\n",
       "<table border=\"1\" class=\"dataframe\">\n",
       "  <thead>\n",
       "    <tr style=\"text-align: right;\">\n",
       "      <th></th>\n",
       "      <th>Date</th>\n",
       "      <th>Open</th>\n",
       "      <th>High</th>\n",
       "      <th>Low</th>\n",
       "      <th>Close</th>\n",
       "      <th>Adj Close</th>\n",
       "      <th>Daily Return</th>\n",
       "    </tr>\n",
       "  </thead>\n",
       "  <tbody>\n",
       "    <tr>\n",
       "      <th>0</th>\n",
       "      <td>1980-12-12 00:00:00+00:00</td>\n",
       "      <td>0.128348</td>\n",
       "      <td>0.128906</td>\n",
       "      <td>0.128348</td>\n",
       "      <td>0.128348</td>\n",
       "      <td>0.098943</td>\n",
       "      <td>0.000000</td>\n",
       "    </tr>\n",
       "    <tr>\n",
       "      <th>1</th>\n",
       "      <td>1980-12-15 00:00:00+00:00</td>\n",
       "      <td>0.122210</td>\n",
       "      <td>0.122210</td>\n",
       "      <td>0.121652</td>\n",
       "      <td>0.121652</td>\n",
       "      <td>0.093781</td>\n",
       "      <td>-0.004566</td>\n",
       "    </tr>\n",
       "    <tr>\n",
       "      <th>2</th>\n",
       "      <td>1980-12-16 00:00:00+00:00</td>\n",
       "      <td>0.113281</td>\n",
       "      <td>0.113281</td>\n",
       "      <td>0.112723</td>\n",
       "      <td>0.112723</td>\n",
       "      <td>0.086898</td>\n",
       "      <td>-0.004926</td>\n",
       "    </tr>\n",
       "    <tr>\n",
       "      <th>3</th>\n",
       "      <td>1980-12-17 00:00:00+00:00</td>\n",
       "      <td>0.115513</td>\n",
       "      <td>0.116071</td>\n",
       "      <td>0.115513</td>\n",
       "      <td>0.115513</td>\n",
       "      <td>0.089049</td>\n",
       "      <td>0.000000</td>\n",
       "    </tr>\n",
       "    <tr>\n",
       "      <th>4</th>\n",
       "      <td>1980-12-18 00:00:00+00:00</td>\n",
       "      <td>0.118862</td>\n",
       "      <td>0.119420</td>\n",
       "      <td>0.118862</td>\n",
       "      <td>0.118862</td>\n",
       "      <td>0.091630</td>\n",
       "      <td>0.000000</td>\n",
       "    </tr>\n",
       "    <tr>\n",
       "      <th>...</th>\n",
       "      <td>...</td>\n",
       "      <td>...</td>\n",
       "      <td>...</td>\n",
       "      <td>...</td>\n",
       "      <td>...</td>\n",
       "      <td>...</td>\n",
       "      <td>...</td>\n",
       "    </tr>\n",
       "    <tr>\n",
       "      <th>10993</th>\n",
       "      <td>2024-07-24 00:00:00+00:00</td>\n",
       "      <td>224.000000</td>\n",
       "      <td>224.800003</td>\n",
       "      <td>217.130005</td>\n",
       "      <td>218.539993</td>\n",
       "      <td>218.287323</td>\n",
       "      <td>-0.024375</td>\n",
       "    </tr>\n",
       "    <tr>\n",
       "      <th>10994</th>\n",
       "      <td>2024-07-25 00:00:00+00:00</td>\n",
       "      <td>218.929993</td>\n",
       "      <td>220.850006</td>\n",
       "      <td>214.619995</td>\n",
       "      <td>217.490005</td>\n",
       "      <td>217.238556</td>\n",
       "      <td>-0.006577</td>\n",
       "    </tr>\n",
       "    <tr>\n",
       "      <th>10995</th>\n",
       "      <td>2024-07-26 00:00:00+00:00</td>\n",
       "      <td>218.699997</td>\n",
       "      <td>219.490005</td>\n",
       "      <td>216.009995</td>\n",
       "      <td>217.960007</td>\n",
       "      <td>217.708008</td>\n",
       "      <td>-0.003384</td>\n",
       "    </tr>\n",
       "    <tr>\n",
       "      <th>10996</th>\n",
       "      <td>2024-07-29 00:00:00+00:00</td>\n",
       "      <td>216.960007</td>\n",
       "      <td>219.300003</td>\n",
       "      <td>215.750000</td>\n",
       "      <td>218.240005</td>\n",
       "      <td>217.987686</td>\n",
       "      <td>0.005900</td>\n",
       "    </tr>\n",
       "    <tr>\n",
       "      <th>10997</th>\n",
       "      <td>2024-07-30 00:00:00+00:00</td>\n",
       "      <td>219.190002</td>\n",
       "      <td>220.330002</td>\n",
       "      <td>216.119995</td>\n",
       "      <td>218.800003</td>\n",
       "      <td>218.547043</td>\n",
       "      <td>-0.001779</td>\n",
       "    </tr>\n",
       "  </tbody>\n",
       "</table>\n",
       "<p>10998 rows × 7 columns</p>\n",
       "</div>"
      ],
      "text/plain": [
       "                           Date        Open        High         Low  \\\n",
       "0     1980-12-12 00:00:00+00:00    0.128348    0.128906    0.128348   \n",
       "1     1980-12-15 00:00:00+00:00    0.122210    0.122210    0.121652   \n",
       "2     1980-12-16 00:00:00+00:00    0.113281    0.113281    0.112723   \n",
       "3     1980-12-17 00:00:00+00:00    0.115513    0.116071    0.115513   \n",
       "4     1980-12-18 00:00:00+00:00    0.118862    0.119420    0.118862   \n",
       "...                         ...         ...         ...         ...   \n",
       "10993 2024-07-24 00:00:00+00:00  224.000000  224.800003  217.130005   \n",
       "10994 2024-07-25 00:00:00+00:00  218.929993  220.850006  214.619995   \n",
       "10995 2024-07-26 00:00:00+00:00  218.699997  219.490005  216.009995   \n",
       "10996 2024-07-29 00:00:00+00:00  216.960007  219.300003  215.750000   \n",
       "10997 2024-07-30 00:00:00+00:00  219.190002  220.330002  216.119995   \n",
       "\n",
       "            Close   Adj Close  Daily Return  \n",
       "0        0.128348    0.098943      0.000000  \n",
       "1        0.121652    0.093781     -0.004566  \n",
       "2        0.112723    0.086898     -0.004926  \n",
       "3        0.115513    0.089049      0.000000  \n",
       "4        0.118862    0.091630      0.000000  \n",
       "...           ...         ...           ...  \n",
       "10993  218.539993  218.287323     -0.024375  \n",
       "10994  217.490005  217.238556     -0.006577  \n",
       "10995  217.960007  217.708008     -0.003384  \n",
       "10996  218.240005  217.987686      0.005900  \n",
       "10997  218.800003  218.547043     -0.001779  \n",
       "\n",
       "[10998 rows x 7 columns]"
      ]
     },
     "execution_count": 46,
     "metadata": {},
     "output_type": "execute_result"
    }
   ],
   "source": [
    "stock_data['AAPL']"
   ]
  },
  {
   "cell_type": "markdown",
   "metadata": {},
   "source": [
    "Merging the Data for the Correlation Analysis"
   ]
  },
  {
   "cell_type": "code",
   "execution_count": 47,
   "metadata": {},
   "outputs": [],
   "source": [
    "merged_data = {}\n",
    "\n",
    "for stock, df in stock_data.items():\n",
    "    # Filter the aggregated sentiment data for the specific stock\n",
    "    sentiment_filtered = aggregated_sentiment[aggregated_sentiment['stock'] == stock]\n",
    "    \n",
    "    # Merge sentiment data with stock data\n",
    "    merged_df = pd.merge(sentiment_filtered, df, how='inner', left_on='date', right_on='Date')\n",
    "    \n",
    "    # Keep only the necessary columns\n",
    "    merged_df = merged_df[['date', 'stock', 'sentiment_score', 'Daily Return']]\n",
    "    \n",
    "    merged_data[stock] = merged_df\n"
   ]
  },
  {
   "cell_type": "code",
   "execution_count": 49,
   "metadata": {},
   "outputs": [
    {
     "data": {
      "text/html": [
       "<div>\n",
       "<style scoped>\n",
       "    .dataframe tbody tr th:only-of-type {\n",
       "        vertical-align: middle;\n",
       "    }\n",
       "\n",
       "    .dataframe tbody tr th {\n",
       "        vertical-align: top;\n",
       "    }\n",
       "\n",
       "    .dataframe thead th {\n",
       "        text-align: right;\n",
       "    }\n",
       "</style>\n",
       "<table border=\"1\" class=\"dataframe\">\n",
       "  <thead>\n",
       "    <tr style=\"text-align: right;\">\n",
       "      <th></th>\n",
       "      <th>date</th>\n",
       "      <th>stock</th>\n",
       "      <th>sentiment_score</th>\n",
       "      <th>Daily Return</th>\n",
       "    </tr>\n",
       "  </thead>\n",
       "  <tbody>\n",
       "    <tr>\n",
       "      <th>0</th>\n",
       "      <td>2020-01-06 00:00:00+00:00</td>\n",
       "      <td>AAPL</td>\n",
       "      <td>0.036616</td>\n",
       "      <td>0.020457</td>\n",
       "    </tr>\n",
       "    <tr>\n",
       "      <th>1</th>\n",
       "      <td>2020-02-04 00:00:00+00:00</td>\n",
       "      <td>AAPL</td>\n",
       "      <td>0.175000</td>\n",
       "      <td>0.011227</td>\n",
       "    </tr>\n",
       "    <tr>\n",
       "      <th>2</th>\n",
       "      <td>2020-02-05 00:00:00+00:00</td>\n",
       "      <td>AAPL</td>\n",
       "      <td>0.500000</td>\n",
       "      <td>-0.006398</td>\n",
       "    </tr>\n",
       "    <tr>\n",
       "      <th>3</th>\n",
       "      <td>2020-02-06 00:00:00+00:00</td>\n",
       "      <td>AAPL</td>\n",
       "      <td>-0.070833</td>\n",
       "      <td>0.008184</td>\n",
       "    </tr>\n",
       "    <tr>\n",
       "      <th>4</th>\n",
       "      <td>2020-03-04 00:00:00+00:00</td>\n",
       "      <td>AAPL</td>\n",
       "      <td>0.000000</td>\n",
       "      <td>0.021252</td>\n",
       "    </tr>\n",
       "  </tbody>\n",
       "</table>\n",
       "</div>"
      ],
      "text/plain": [
       "                       date stock  sentiment_score  Daily Return\n",
       "0 2020-01-06 00:00:00+00:00  AAPL         0.036616      0.020457\n",
       "1 2020-02-04 00:00:00+00:00  AAPL         0.175000      0.011227\n",
       "2 2020-02-05 00:00:00+00:00  AAPL         0.500000     -0.006398\n",
       "3 2020-02-06 00:00:00+00:00  AAPL        -0.070833      0.008184\n",
       "4 2020-03-04 00:00:00+00:00  AAPL         0.000000      0.021252"
      ]
     },
     "execution_count": 49,
     "metadata": {},
     "output_type": "execute_result"
    }
   ],
   "source": [
    "merged_data['AAPL'].head()"
   ]
  },
  {
   "cell_type": "markdown",
   "metadata": {},
   "source": [
    "Calculate Correlation for each Stock"
   ]
  },
  {
   "cell_type": "code",
   "execution_count": 50,
   "metadata": {},
   "outputs": [
    {
     "name": "stdout",
     "output_type": "stream",
     "text": [
      "Correlation between sentiment and daily returns for AAPL: 0.06408955754510415\n",
      "Correlation between sentiment and daily returns for AMZN: -0.24477046972977715\n",
      "Correlation between sentiment and daily returns for GOOG: 0.05313472524561042\n",
      "Correlation between sentiment and daily returns for NVDA: 0.04727935141118188\n"
     ]
    }
   ],
   "source": [
    "correlations = {}\n",
    "\n",
    "for stock, df in merged_data.items():\n",
    "    # Calculate Pearson correlation\n",
    "    correlation = df['sentiment_score'].corr(df['Daily Return'])\n",
    "    correlations[stock] = correlation\n",
    "\n",
    "# Output the correlation results\n",
    "for stock, correlation in correlations.items():\n",
    "    print(f\"Correlation between sentiment and daily returns for {stock}: {correlation}\")\n"
   ]
  },
  {
   "cell_type": "code",
   "execution_count": null,
   "metadata": {},
   "outputs": [],
   "source": []
  }
 ],
 "metadata": {
  "kernelspec": {
   "display_name": ".venv",
   "language": "python",
   "name": "python3"
  },
  "language_info": {
   "codemirror_mode": {
    "name": "ipython",
    "version": 3
   },
   "file_extension": ".py",
   "mimetype": "text/x-python",
   "name": "python",
   "nbconvert_exporter": "python",
   "pygments_lexer": "ipython3",
   "version": "3.11.5"
  }
 },
 "nbformat": 4,
 "nbformat_minor": 2
}
